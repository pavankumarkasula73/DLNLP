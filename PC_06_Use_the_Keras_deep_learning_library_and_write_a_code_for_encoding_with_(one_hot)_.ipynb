{
  "nbformat": 4,
  "nbformat_minor": 0,
  "metadata": {
    "colab": {
      "provenance": [],
      "authorship_tag": "ABX9TyMYjKBzDziOP3UBHd3Ehrm/",
      "include_colab_link": true
    },
    "kernelspec": {
      "name": "python3",
      "display_name": "Python 3"
    },
    "language_info": {
      "name": "python"
    }
  },
  "cells": [
    {
      "cell_type": "markdown",
      "metadata": {
        "id": "view-in-github",
        "colab_type": "text"
      },
      "source": [
        "<a href=\"https://colab.research.google.com/github/pavankumarkasula73/DLNLP/blob/main/PC_06_Use_the_Keras_deep_learning_library_and_write_a_code_for_encoding_with_(one_hot)_.ipynb\" target=\"_parent\"><img src=\"https://colab.research.google.com/assets/colab-badge.svg\" alt=\"Open In Colab\"/></a>"
      ]
    },
    {
      "cell_type": "code",
      "execution_count": null,
      "metadata": {
        "colab": {
          "base_uri": "https://localhost:8080/"
        },
        "id": "aXtNKuNoPGFT",
        "outputId": "d0e0b5e5-42a8-4ebf-c075-6cd15bf47865"
      },
      "outputs": [
        {
          "output_type": "stream",
          "name": "stdout",
          "text": [
            "[[0. 1. 0. 0. 0.]\n",
            " [0. 0. 0. 1. 0.]\n",
            " [0. 0. 0. 0. 1.]\n",
            " [0. 0. 1. 0. 0.]\n",
            " [0. 1. 0. 0. 0.]\n",
            " [1. 0. 0. 0. 0.]]\n"
          ]
        }
      ],
      "source": [
        "from keras.utils import to_categorical\n",
        "\n",
        "# New set of color labels\n",
        "color_labels = [1, 3, 4, 2, 1, 0]\n",
        "\n",
        "# One-hot encoding the new labels\n",
        "one_hot_encoded = to_categorical(color_labels)\n",
        "print(one_hot_encoded)"
      ]
    }
  ]
}