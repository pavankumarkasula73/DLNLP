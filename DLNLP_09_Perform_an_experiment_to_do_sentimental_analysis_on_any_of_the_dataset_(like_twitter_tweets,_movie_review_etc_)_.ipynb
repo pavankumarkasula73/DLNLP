{
  "nbformat": 4,
  "nbformat_minor": 0,
  "metadata": {
    "colab": {
      "provenance": [],
      "authorship_tag": "ABX9TyMc2p4PDMeyEjOt8LdlJ7Cv",
      "include_colab_link": true
    },
    "kernelspec": {
      "name": "python3",
      "display_name": "Python 3"
    },
    "language_info": {
      "name": "python"
    }
  },
  "cells": [
    {
      "cell_type": "markdown",
      "metadata": {
        "id": "view-in-github",
        "colab_type": "text"
      },
      "source": [
        "<a href=\"https://colab.research.google.com/github/pavankumarkasula73/DLNLP/blob/main/DLNLP_09_Perform_an_experiment_to_do_sentimental_analysis_on_any_of_the_dataset_(like_twitter_tweets%2C_movie_review_etc_)_.ipynb\" target=\"_parent\"><img src=\"https://colab.research.google.com/assets/colab-badge.svg\" alt=\"Open In Colab\"/></a>"
      ]
    },
    {
      "cell_type": "code",
      "execution_count": 1,
      "metadata": {
        "colab": {
          "base_uri": "https://localhost:8080/"
        },
        "id": "lvh4vrf0vzix",
        "outputId": "f2cc736d-5490-4563-f98e-912ff069613a"
      },
      "outputs": [
        {
          "output_type": "stream",
          "name": "stdout",
          "text": [
            "Downloading data from https://storage.googleapis.com/tensorflow/tf-keras-datasets/imdb.npz\n",
            "\u001b[1m17464789/17464789\u001b[0m \u001b[32m━━━━━━━━━━━━━━━━━━━━\u001b[0m\u001b[37m\u001b[0m \u001b[1m0s\u001b[0m 0us/step\n"
          ]
        },
        {
          "output_type": "stream",
          "name": "stderr",
          "text": [
            "/usr/local/lib/python3.10/dist-packages/keras/src/layers/core/embedding.py:90: UserWarning: Argument `input_length` is deprecated. Just remove it.\n",
            "  warnings.warn(\n"
          ]
        },
        {
          "output_type": "stream",
          "name": "stdout",
          "text": [
            "Epoch 1/5\n",
            "391/391 - 130s - 332ms/step - accuracy: 0.7815 - loss: 0.4631 - val_accuracy: 0.8310 - val_loss: 0.3883\n",
            "Epoch 2/5\n",
            "391/391 - 136s - 347ms/step - accuracy: 0.8624 - loss: 0.3404 - val_accuracy: 0.8442 - val_loss: 0.3665\n",
            "Epoch 3/5\n",
            "391/391 - 156s - 399ms/step - accuracy: 0.8801 - loss: 0.2998 - val_accuracy: 0.8438 - val_loss: 0.3882\n",
            "Epoch 4/5\n",
            "391/391 - 129s - 329ms/step - accuracy: 0.8924 - loss: 0.2753 - val_accuracy: 0.8383 - val_loss: 0.4061\n",
            "Epoch 5/5\n",
            "391/391 - 155s - 395ms/step - accuracy: 0.9118 - loss: 0.2313 - val_accuracy: 0.8507 - val_loss: 0.3818\n",
            "782/782 - 24s - 31ms/step - accuracy: 0.8507 - loss: 0.3818\n",
            "Test Accuracy: 85.07%\n"
          ]
        }
      ],
      "source": [
        "# Importing necessary libraries\n",
        "import numpy as np\n",
        "from keras.datasets import imdb\n",
        "from keras.preprocessing.sequence import pad_sequences\n",
        "from keras.models import Sequential\n",
        "from keras.layers import Embedding, LSTM, Dense, Dropout\n",
        "\n",
        "# 1. Load the IMDB dataset\n",
        "# We will use the top 10,000 most frequent words\n",
        "max_words = 10000\n",
        "max_len = 200  # Maximum review length (for padding)\n",
        "\n",
        "# Load the data (train and test set)\n",
        "(X_train, y_train), (X_test, y_test) = imdb.load_data(num_words=max_words)\n",
        "\n",
        "# 2. Preprocess the data\n",
        "# Pad sequences to ensure all inputs have the same length\n",
        "X_train = pad_sequences(X_train, maxlen=max_len)\n",
        "X_test = pad_sequences(X_test, maxlen=max_len)\n",
        "\n",
        "# 3. Build the LSTM model\n",
        "model = Sequential()\n",
        "model.add(Embedding(input_dim=max_words, output_dim=128, input_length=max_len))  # Embedding layer\n",
        "model.add(LSTM(units=64, dropout=0.2, recurrent_dropout=0.2))  # LSTM layer\n",
        "model.add(Dense(1, activation='sigmoid'))  # Output layer (binary classification)\n",
        "\n",
        "# 4. Compile the model\n",
        "model.compile(optimizer='adam', loss='binary_crossentropy', metrics=['accuracy'])\n",
        "\n",
        "# 5. Train the model\n",
        "batch_size = 64\n",
        "epochs = 5\n",
        "history = model.fit(X_train, y_train, validation_data=(X_test, y_test), batch_size=batch_size, epochs=epochs, verbose=2)\n",
        "\n",
        "# 6. Evaluate the model\n",
        "test_loss, test_acc = model.evaluate(X_test, y_test, verbose=2)\n",
        "print(f\"Test Accuracy: {test_acc * 100:.2f}%\")\n"
      ]
    }
  ]
}