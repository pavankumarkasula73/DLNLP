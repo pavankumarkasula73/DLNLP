{
  "nbformat": 4,
  "nbformat_minor": 0,
  "metadata": {
    "colab": {
      "provenance": [],
      "authorship_tag": "ABX9TyMEbskiccm0/chDgfYvu7C1",
      "include_colab_link": true
    },
    "kernelspec": {
      "name": "python3",
      "display_name": "Python 3"
    },
    "language_info": {
      "name": "python"
    }
  },
  "cells": [
    {
      "cell_type": "markdown",
      "metadata": {
        "id": "view-in-github",
        "colab_type": "text"
      },
      "source": [
        "<a href=\"https://colab.research.google.com/github/pavankumarkasula73/DLNLP/blob/main/DLNLP_PC_2_Implementation_to_Convert_the_text_to_word_count_vectors_with_ScikitLearn_(CountVectorizer).ipynb\" target=\"_parent\"><img src=\"https://colab.research.google.com/assets/colab-badge.svg\" alt=\"Open In Colab\"/></a>"
      ]
    },
    {
      "cell_type": "code",
      "source": [
        "import pandas as pd\n",
        "import spacy\n",
        "from sklearn.datasets import fetch_20newsgroups\n",
        "from sklearn.feature_extraction.text import CountVectorizer"
      ],
      "metadata": {
        "colab": {
          "base_uri": "https://localhost:8080/"
        },
        "id": "mkygQI-8yeL0",
        "outputId": "8612e504-b02e-4134-e426-56b80ce81d95"
      },
      "execution_count": null,
      "outputs": [
        {
          "output_type": "stream",
          "name": "stdout",
          "text": [
            "                                                   text  target\n",
            "7492  From: rrn@po.CWRU.Edu (Robert R. Novitskey)\\nS...       4\n",
            "3546  From: ardie@ux1.cso.uiuc.edu (Ardie Mack)\\nSub...       2\n",
            "5582  From: tsa@cellar.org (The Silent Assassin)\\nSu...       6\n",
            "4793  From: guy@idacom.hp.com (Guy M. Trotter)\\nSubj...      16\n",
            "3813  From: jwodzia@fadel.uucp (john wodziak)\\nSubje...      10\n"
          ]
        },
        {
          "output_type": "stream",
          "name": "stderr",
          "text": [
            "/usr/local/lib/python3.10/dist-packages/sklearn/feature_extraction/text.py:528: UserWarning: The parameter 'token_pattern' will not be used since 'tokenizer' is not None'\n",
            "  warnings.warn(\n"
          ]
        },
        {
          "output_type": "stream",
          "name": "stdout",
          "text": [
            "Feature Names: ['\\t' '\\t\\t\\t' '\\t\\t\\t\\t' ... '|you' '~$200' '~paul']\n",
            "Word Count Vectors:\n",
            " [[0 0 0 ... 0 0 0]\n",
            " [2 0 0 ... 0 0 0]\n",
            " [0 0 0 ... 0 0 0]\n",
            " ...\n",
            " [0 0 0 ... 0 0 0]\n",
            " [0 0 0 ... 0 0 0]\n",
            " [0 0 0 ... 0 0 0]]\n"
          ]
        }
      ]
    },
    {
      "cell_type": "code",
      "source": [
        "# Load the SpaCy model\n",
        "nlp = spacy.load(\"en_core_web_sm\")"
      ],
      "metadata": {
        "id": "rhxnLpGQihoV"
      },
      "execution_count": null,
      "outputs": []
    },
    {
      "cell_type": "code",
      "source": [
        "\n",
        "# Define custom tokenizer\n",
        "def spacy_tokenizer(text):\n",
        "    # Process the text with SpaCy\n",
        "    doc = nlp(text)\n",
        "    # Extract the tokens and return as a list of strings\n",
        "  return [token.lemma_ for token in doc if not token.is_stop and not token.is_punct]"
      ],
      "metadata": {
        "id": "r4TcTGE9ioUk"
      },
      "execution_count": null,
      "outputs": []
    },
    {
      "cell_type": "code",
      "source": [
        "# Load the 20 Newsgroups dataset\n",
        "newsgroups_data = fetch_20newsgroups(subset='train')"
      ],
      "metadata": {
        "id": "WpmfrtFbiqvD"
      },
      "execution_count": null,
      "outputs": []
    },
    {
      "cell_type": "code",
      "source": [
        "# Convert to DataFrame\n",
        "df = pd.DataFrame({'text': newsgroups_data.data, 'target': newsgroups_data.target})"
      ],
      "metadata": {
        "id": "tz-vMPe2iu7n"
      },
      "execution_count": null,
      "outputs": []
    },
    {
      "cell_type": "code",
      "source": [
        "# Use a smaller subset of the data for testing\n",
        "df_sample = df.sample(n=100, random_state=42)"
      ],
      "metadata": {
        "id": "bUVSgjpOi0Ij"
      },
      "execution_count": null,
      "outputs": []
    },
    {
      "cell_type": "code",
      "source": [
        "# Verify the structure of the DataFrame\n",
        "print(df_sample.head())"
      ],
      "metadata": {
        "id": "8euuEUAbi0wd"
      },
      "execution_count": null,
      "outputs": []
    },
    {
      "cell_type": "code",
      "source": [
        "# Initialize CountVectorizer with custom tokenizer\n",
        "vectorizer = CountVectorizer(tokenizer=spacy_tokenizer)"
      ],
      "metadata": {
        "id": "ct_NG5Xbi1NB"
      },
      "execution_count": null,
      "outputs": []
    },
    {
      "cell_type": "code",
      "source": [
        "# Fit and transform the text data from the dataset\n",
        "word_count_vectors = vectorizer.fit_transform(df_sample['text'])"
      ],
      "metadata": {
        "id": "HtKd5t-wi4GO"
      },
      "execution_count": null,
      "outputs": []
    },
    {
      "cell_type": "code",
      "source": [
        "# Convert to an array for better readability\n",
        "word_count_array = word_count_vectors.toarray()"
      ],
      "metadata": {
        "id": "fD2IKy5ei_7y"
      },
      "execution_count": null,
      "outputs": []
    },
    {
      "cell_type": "code",
      "source": [
        "# Get feature names\n",
        "feature_names = vectorizer.get_feature_names_out()\n",
        "\n",
        "print(\"Feature Names:\", feature_names)\n",
        "print(\"Word Count Vectors:\\n\", word_count_array)"
      ],
      "metadata": {
        "id": "NuTatqEWjDtL"
      },
      "execution_count": null,
      "outputs": []
    }
  ]
}