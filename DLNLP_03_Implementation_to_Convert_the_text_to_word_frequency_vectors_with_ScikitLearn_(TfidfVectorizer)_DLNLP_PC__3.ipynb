{
  "nbformat": 4,
  "nbformat_minor": 0,
  "metadata": {
    "colab": {
      "provenance": [],
      "authorship_tag": "ABX9TyOq808Bczh4wkdZKqs7AI5s",
      "include_colab_link": true
    },
    "kernelspec": {
      "name": "python3",
      "display_name": "Python 3"
    },
    "language_info": {
      "name": "python"
    }
  },
  "cells": [
    {
      "cell_type": "markdown",
      "metadata": {
        "id": "view-in-github",
        "colab_type": "text"
      },
      "source": [
        "<a href=\"https://colab.research.google.com/github/pavankumarkasula73/DLNLP/blob/main/DLNLP_03_Implementation_to_Convert_the_text_to_word_frequency_vectors_with_ScikitLearn_(TfidfVectorizer)_DLNLP_PC__3.ipynb\" target=\"_parent\"><img src=\"https://colab.research.google.com/assets/colab-badge.svg\" alt=\"Open In Colab\"/></a>"
      ]
    },
    {
      "cell_type": "markdown",
      "source": [
        "## **Import necessary libraries**"
      ],
      "metadata": {
        "id": "fMW2j_O1tgLE"
      }
    },
    {
      "cell_type": "code",
      "execution_count": 1,
      "metadata": {
        "id": "seutjtj9tPjq",
        "colab": {
          "base_uri": "https://localhost:8080/"
        },
        "outputId": "1b960b58-7833-496e-b8d7-3d80ea4446de"
      },
      "outputs": [
        {
          "output_type": "stream",
          "name": "stdout",
          "text": [
            "Feature Names:\n",
            " ['2898' 'ad' 'advanced' 'amitabh' 'an' 'and' 'anticipated' 'around'\n",
            " 'ashwin' 'bachchan' 'by' 'cast' 'deepika' 'directed' 'dystopian'\n",
            " 'effects' 'fiction' 'film' 'future' 'futuristic' 'groundbreaking' 'in'\n",
            " 'includes' 'indian' 'is' 'kalki' 'most' 'movie' 'movies' 'nag' 'of' 'one'\n",
            " 'padukone' 'plot' 'prabhas' 'produced' 'promises' 'revolves' 'science'\n",
            " 'set' 'technology' 'the' 'upcoming' 'visual' 'vyjayanthi' 'with' 'world'\n",
            " 'year']\n",
            "\n",
            "TF-IDF Matrix:\n",
            " [[0.28916707 0.28916707 0.         0.         0.35263662 0.\n",
            "  0.         0.         0.         0.         0.         0.\n",
            "  0.         0.         0.         0.         0.35263662 0.28916707\n",
            "  0.         0.         0.         0.         0.         0.35263662\n",
            "  0.2092049  0.28916707 0.         0.         0.         0.\n",
            "  0.         0.         0.         0.         0.         0.\n",
            "  0.         0.         0.35263662 0.         0.         0.\n",
            "  0.35263662 0.         0.         0.         0.         0.        ]\n",
            " [0.         0.         0.         0.         0.         0.20182959\n",
            "  0.         0.         0.29152964 0.         0.58305928 0.\n",
            "  0.         0.29152964 0.         0.         0.         0.\n",
            "  0.         0.         0.         0.         0.         0.\n",
            "  0.17295263 0.         0.         0.29152964 0.23905848 0.29152964\n",
            "  0.         0.         0.         0.         0.         0.29152964\n",
            "  0.         0.         0.         0.         0.         0.14935843\n",
            "  0.         0.         0.29152964 0.         0.         0.        ]\n",
            " [0.         0.         0.         0.35940137 0.         0.24881803\n",
            "  0.         0.         0.         0.35940137 0.         0.35940137\n",
            "  0.35940137 0.         0.         0.         0.         0.\n",
            "  0.         0.         0.         0.         0.35940137 0.\n",
            "  0.         0.         0.         0.         0.         0.\n",
            "  0.         0.         0.35940137 0.         0.35940137 0.\n",
            "  0.         0.         0.         0.         0.         0.18413093\n",
            "  0.         0.         0.         0.         0.         0.        ]\n",
            " [0.         0.         0.         0.         0.         0.22153396\n",
            "  0.         0.         0.         0.         0.         0.\n",
            "  0.         0.         0.         0.31999132 0.         0.26239746\n",
            "  0.         0.31999132 0.31999132 0.31999132 0.         0.\n",
            "  0.18983778 0.         0.         0.         0.         0.\n",
            "  0.         0.         0.         0.         0.         0.\n",
            "  0.31999132 0.         0.         0.31999132 0.         0.1639401\n",
            "  0.         0.31999132 0.         0.         0.31999132 0.        ]\n",
            " [0.23581975 0.23581975 0.         0.         0.         0.\n",
            "  0.28758004 0.         0.         0.         0.         0.\n",
            "  0.         0.         0.         0.         0.         0.\n",
            "  0.         0.         0.         0.         0.         0.\n",
            "  0.17060949 0.23581975 0.28758004 0.         0.23581975 0.\n",
            "  0.57516008 0.28758004 0.         0.         0.         0.\n",
            "  0.         0.         0.         0.         0.         0.29466988\n",
            "  0.         0.         0.         0.         0.         0.28758004]\n",
            " [0.         0.         0.34789231 0.         0.         0.\n",
            "  0.         0.34789231 0.         0.         0.         0.\n",
            "  0.         0.         0.34789231 0.         0.         0.\n",
            "  0.34789231 0.         0.         0.         0.         0.\n",
            "  0.         0.         0.         0.         0.         0.\n",
            "  0.         0.         0.         0.34789231 0.         0.\n",
            "  0.         0.34789231 0.         0.         0.34789231 0.17823453\n",
            "  0.         0.         0.         0.34789231 0.         0.        ]]\n"
          ]
        }
      ],
      "source": [
        "# Importing necessary libraries\n",
        "from sklearn.feature_extraction.text import TfidfVectorizer\n",
        "\n",
        "# Sample text data\n",
        "documents = [\n",
        "    \"Kalki 2898 AD is an upcoming Indian science fiction film.\",\n",
        "    \"The movie is directed by Nag Ashwin and produced by Vyjayanthi Movies.\",\n",
        "    \"The cast includes Prabhas, Deepika Padukone, and Amitabh Bachchan.\",\n",
        "    \"The film is set in a futuristic world and promises groundbreaking visual effects.\",\n",
        "    \"Kalki 2898 AD is one of the most anticipated movies of the year.\",\n",
        "    \"The plot revolves around a dystopian future with advanced technology.\"\n",
        "]\n",
        "\n",
        "# Create a TfidfVectorizer object\n",
        "vectorizer = TfidfVectorizer()\n",
        "\n",
        "# Convert the documents to a matrix of TF-IDF features\n",
        "tfidf_matrix = vectorizer.fit_transform(documents)\n",
        "\n",
        "# Get feature names (the words)\n",
        "feature_names = vectorizer.get_feature_names_out()\n",
        "\n",
        "# Convert the matrix to a dense format for better readability\n",
        "dense_matrix = tfidf_matrix.todense()\n",
        "\n",
        "# Print the matrix with feature names\n",
        "print(\"Feature Names:\\n\", feature_names)\n",
        "print(\"\\nTF-IDF Matrix:\\n\", dense_matrix)\n"
      ]
    }
  ]
}